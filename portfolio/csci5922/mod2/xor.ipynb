{
 "cells": [
  {
   "cell_type": "code",
   "execution_count": 2,
   "metadata": {},
   "outputs": [],
   "source": [
    "# setup the environment\n",
    "import numpy as np"
   ]
  },
  {
   "cell_type": "code",
   "execution_count": 3,
   "metadata": {},
   "outputs": [
    {
     "name": "stdout",
     "output_type": "stream",
     "text": [
      "(4, 2)\n",
      "(4, 1)\n"
     ]
    }
   ],
   "source": [
    "# define input and output\n",
    "x = np.array([\n",
    "    [0,0],\n",
    "    [0,1],\n",
    "    [1,0],\n",
    "    [1,1]\n",
    "])\n",
    "\n",
    "y = np.array([\n",
    "    [0],\n",
    "    [1],\n",
    "    [1],\n",
    "    [0]\n",
    "])\n",
    "\n",
    "print(x.shape)\n",
    "print(y.shape)"
   ]
  },
  {
   "cell_type": "code",
   "execution_count": null,
   "metadata": {},
   "outputs": [],
   "source": [
    "## part 1\n",
    "# create a class called \"Neural Network\"\n",
    "# it should have a method called train that takes in X and Y\n",
    "# it should take in # of epochs, learning rate as an input\n",
    "# it should use the sigmoid as an activation function\n",
    "\n",
    "# it should have a property called .loss that stores the error for each epoch\n",
    "# it should have a property called .confidence that stores a confidence matrix \n",
    "\n",
    "## part 2\n",
    "# it should take # of hidden layers as an input\n",
    "# it should take # of nodes per hidden layer as an input"
   ]
  },
  {
   "cell_type": "code",
   "execution_count": 5,
   "metadata": {},
   "outputs": [],
   "source": [
    "class NeuralNetwork:\n",
    "    \n",
    "    def __init__(self, learning_rate, epochs, x):\n",
    "        self.learning_rate = learning_rate\n",
    "        self.epochs = epochs\n",
    "        self.w1 = np.empty((4,1))\n",
    "        self.b = np.empty((2,1))\n",
    "        self.w2 = np.empty((2,1))\n",
    "        self.c = np.empty((1,1))\n",
    "        self.x = x\n",
    "    \n",
    "    def initialize_weights(self):\n",
    "        self.w1 = np.random.rand(4,1)\n",
    "        self.b = np.random.rand(2,1)\n",
    "        self.w2 = np.random.rand(2,1)\n",
    "        self.c = np.random.rand(1,1)\n",
    "\n",
    "    def sigmoid(self, z):\n",
    "        return 1/(1+np.exp(-z))\n",
    "    \n",
    "    def sigmoid_derivative(self, z):\n",
    "        return self.sigmoid(z) * (1-self.sigmoid(z))\n",
    "\n",
    "    def feed_forward(self):\n",
    "        self.z1 = self.w1 @ self.x  + self.b\n",
    "        self.h = self.sigmoid(-self.z1)\n",
    "        self.z2 = self.h @ self.w2 + self.c\n",
    "        self.y_hat = 1/(1+np.exp(-self.z2))\n",
    "        return self.y_hat\n",
    "   \n",
    "    def calculate_loss(self, y):\n",
    "        self.loss = (y @ np.log(self.y_hat) + (1-y) @ np.log(1-self.y_hat))\n",
    "        return self.loss\n",
    "    \n",
    "    def update_weights(self, y):\n",
    "        print('updating weights')\n",
    "\n",
    "    def train(self, x, y):\n",
    "        self.initialize_weights()\n",
    "        print('training the model.')\n",
    "        for _ in range(self.epochs):\n",
    "            self.feed_forward()\n",
    "            self.calculate_loss(y)\n",
    "            self.update_weights(y)\n",
    "            return "
   ]
  },
  {
   "cell_type": "code",
   "execution_count": 8,
   "metadata": {},
   "outputs": [
    {
     "name": "stdout",
     "output_type": "stream",
     "text": [
      "training the model.\n"
     ]
    },
    {
     "ename": "TypeError",
     "evalue": "NeuralNetwork.feed_forward() missing 1 required positional argument: 'x'",
     "output_type": "error",
     "traceback": [
      "\u001b[1;31m---------------------------------------------------------------------------\u001b[0m",
      "\u001b[1;31mTypeError\u001b[0m                                 Traceback (most recent call last)",
      "Cell \u001b[1;32mIn[8], line 3\u001b[0m\n\u001b[0;32m      1\u001b[0m xor \u001b[39m=\u001b[39m NeuralNetwork(learning_rate\u001b[39m=\u001b[39m\u001b[39m1\u001b[39m, epochs\u001b[39m=\u001b[39m\u001b[39m3\u001b[39m, x\u001b[39m=\u001b[39mx)\n\u001b[1;32m----> 3\u001b[0m xor\u001b[39m.\u001b[39;49mtrain(x, y)\n",
      "Cell \u001b[1;32mIn[5], line 54\u001b[0m, in \u001b[0;36mNeuralNetwork.train\u001b[1;34m(self, x, y)\u001b[0m\n\u001b[0;32m     52\u001b[0m \u001b[39mprint\u001b[39m(\u001b[39m'\u001b[39m\u001b[39mtraining the model.\u001b[39m\u001b[39m'\u001b[39m)\n\u001b[0;32m     53\u001b[0m \u001b[39mfor\u001b[39;00m _ \u001b[39min\u001b[39;00m \u001b[39mrange\u001b[39m(\u001b[39mself\u001b[39m\u001b[39m.\u001b[39mepochs):\n\u001b[1;32m---> 54\u001b[0m     \u001b[39mself\u001b[39;49m\u001b[39m.\u001b[39;49mfeed_forward()\n\u001b[0;32m     55\u001b[0m     \u001b[39mself\u001b[39m\u001b[39m.\u001b[39mcalculate_loss(y)\n\u001b[0;32m     56\u001b[0m     \u001b[39mreturn\u001b[39;00m\n",
      "\u001b[1;31mTypeError\u001b[0m: NeuralNetwork.feed_forward() missing 1 required positional argument: 'x'"
     ]
    }
   ],
   "source": [
    "xor = NeuralNetwork(learning_rate=1, epochs=3, x=x)\n",
    "\n",
    "xor.train(x, y)"
   ]
  }
 ],
 "metadata": {
  "kernelspec": {
   "display_name": "Python 3",
   "language": "python",
   "name": "python3"
  },
  "language_info": {
   "codemirror_mode": {
    "name": "ipython",
    "version": 3
   },
   "file_extension": ".py",
   "mimetype": "text/x-python",
   "name": "python",
   "nbconvert_exporter": "python",
   "pygments_lexer": "ipython3",
   "version": "3.11.0"
  },
  "orig_nbformat": 4
 },
 "nbformat": 4,
 "nbformat_minor": 2
}
