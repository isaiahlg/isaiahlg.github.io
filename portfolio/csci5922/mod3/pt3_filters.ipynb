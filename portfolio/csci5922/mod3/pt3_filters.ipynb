{
 "cells": [
  {
   "cell_type": "markdown",
   "metadata": {},
   "source": [
    "# Cross Correlation Applied by Hand"
   ]
  },
  {
   "cell_type": "markdown",
   "metadata": {},
   "source": [
    "Here, we start with an image with 3 channels, RGB, of dimension 4x4. We are going to apply a filter of dimension 3x3 to each channel of the image. Our bias is 1 and our stride length is one."
   ]
  },
  {
   "cell_type": "markdown",
   "metadata": {},
   "source": [
    "![filters.png](pt3_filters.png)"
   ]
  },
  {
   "cell_type": "markdown",
   "metadata": {},
   "source": [
    "Now, let's apply max pooling to the original image. We will use a 2x2 filter with a stride length of 2. Finally, we'll flatten the image into a vector for each channel."
   ]
  },
  {
   "cell_type": "markdown",
   "metadata": {},
   "source": [
    "![maxpool.png](pt3_maxpool.png)"
   ]
  },
  {
   "cell_type": "markdown",
   "metadata": {},
   "source": [
    "## Export to HTML"
   ]
  },
  {
   "cell_type": "code",
   "execution_count": 2,
   "metadata": {},
   "outputs": [
    {
     "name": "stderr",
     "output_type": "stream",
     "text": [
      "[NbConvertApp] Converting notebook pt3_filters.ipynb to html\n",
      "[NbConvertApp] Writing 577233 bytes to pt3_filters.html\n"
     ]
    },
    {
     "data": {
      "text/plain": [
       "0"
      ]
     },
     "execution_count": 2,
     "metadata": {},
     "output_type": "execute_result"
    }
   ],
   "source": [
    "# export to HTML for webpage\n",
    "import os\n",
    "\n",
    "# os.system('jupyter nbconvert --to html mod1.ipynb')\n",
    "os.system('jupyter nbconvert --to html pt3_filters.ipynb --HTMLExporter.theme=dark')"
   ]
  }
 ],
 "metadata": {
  "kernelspec": {
   "display_name": "base",
   "language": "python",
   "name": "python3"
  },
  "language_info": {
   "codemirror_mode": {
    "name": "ipython",
    "version": 3
   },
   "file_extension": ".py",
   "mimetype": "text/x-python",
   "name": "python",
   "nbconvert_exporter": "python",
   "pygments_lexer": "ipython3",
   "version": "3.9.13"
  },
  "orig_nbformat": 4
 },
 "nbformat": 4,
 "nbformat_minor": 2
}
