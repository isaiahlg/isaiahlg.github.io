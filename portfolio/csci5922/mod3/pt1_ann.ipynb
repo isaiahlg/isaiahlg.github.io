{
 "cells": [
  {
   "cell_type": "markdown",
   "metadata": {},
   "source": [
    "# MNIST Classification with ANN\n",
    "\n",
    "Here, I implement the classic neural network, a classification model for MNIST dataset of handwritten digits. The model is implemented using Keras, a high-level neural networks API, running on top of TensorFlow backend.\n",
    "\n",
    "In order to use a simple ANN for this task, we will flatten the 28x28 images into 1D vectors of size 784. Our model will have 3 fully connected dense layers, as well as one drop out layer to prevent overfitting. The intermediate layers will use ReLU activation function, while the output layer will use softmax activation function. The prediction will be the class with the highest probability in the output layer. The model will be trained using Adam optimizer and sparse categorical cross entropy loss function. The model will be trained for 10 epochs with a batch size of 128. The model will be evaluated on the test set.\n",
    "\n",
    "An illustration of the model is below:\n",
    "\n",
    "![image.png](pt1_ann.png)"
   ]
  },
  {
   "cell_type": "code",
   "execution_count": 3,
   "metadata": {},
   "outputs": [],
   "source": [
    "# import libraries\n",
    "import numpy as np\n",
    "import tensorflow as tf\n",
    "from tensorflow import keras\n",
    "from keras import layers\n",
    "from sklearn.metrics import confusion_matrix\n",
    "import matplotlib.pyplot as plt"
   ]
  },
  {
   "cell_type": "markdown",
   "metadata": {},
   "source": [
    "## Load the MNIST Data"
   ]
  },
  {
   "cell_type": "code",
   "execution_count": 41,
   "metadata": {},
   "outputs": [],
   "source": [
    "# load data\n",
    "data = tf.keras.datasets.mnist.load_data(path=\"mnist.npz\")"
   ]
  },
  {
   "cell_type": "code",
   "execution_count": 97,
   "metadata": {},
   "outputs": [
    {
     "name": "stdout",
     "output_type": "stream",
     "text": [
      "The first train label is 5\n"
     ]
    },
    {
     "data": {
      "image/png": "[encoded data removed]",
      "text/plain": [
       "<Figure size 640x480 with 1 Axes>"
      ]
     },
     "metadata": {},
     "output_type": "display_data"
    }
   ],
   "source": [
    "# investigate the data\n",
    "\n",
    "\n",
    "# This is a dataset of 60,000 28x28 grayscale images of the 10 digits\n",
    "# along with a test set of 10,000 images. \n",
    "# More info can be found at the MNIST homepage.\n",
    "\n",
    "# Tuple of tuple of NumPy arrays: (x_train, y_train), (x_test, y_test).\n",
    "# x_train: uint8 NumPy array of grayscale image data with shapes (60000, 28, 28), containing the training data. Pixel values range from 0 to 255.\n",
    "# y_train: uint8 NumPy array of digit labels (integers in range 0-9) with shape (60000,) for the training data.\n",
    "# x_test: uint8 NumPy array of grayscale image data with shapes (10000, 28, 28), containing the test data. Pixel values range from 0 to 255.\n",
    "# y_test: uint8 NumPy array of digit labels (integers in range 0-9) with shape (10000,) for the test data.\n",
    "\n",
    "data \n",
    "# tuple of tuples\n",
    "# ((x_train, y_train), (x_test, y_test))\n",
    "\n",
    "data[0]\n",
    "# tuple of numpy arrays numpy.ndarray\n",
    "# (x_train, y_train)\n",
    "\n",
    "x_train = data[0][0] \n",
    "# x_train\n",
    "# numpy.ndarray\n",
    "# shape (60000, 28, 28)\n",
    "\n",
    "x_train[0]\n",
    "# first image\n",
    "# numpy.ndarray\n",
    "# shape (28, 28)\n",
    "\n",
    "x_train[0][0]\n",
    "# first row of pixels\n",
    "# numpy.ndarray\n",
    "# shape (28,)\n",
    "\n",
    "x_train[0][0][0]\n",
    "# first pixel\n",
    "# numpy.uint8\n",
    "# ()\n",
    "# value 0\n",
    "\n",
    "y_train = data[0][1]\n",
    "# y_train\n",
    "# numpy.ndarray\n",
    "# shape (60000,)\n",
    "# dtype uint8\n",
    "\n",
    "y_train[0]\n",
    "# first label\n",
    "# numpy.uint8\n",
    "# ()\n",
    "# value 5\n",
    "\n",
    "x_test = data[1][0]\n",
    "y_test = data[1][1]\n",
    "\n",
    "# print out a sample image\n",
    "\n",
    "plt.imshow(x_train[1], cmap=plt.cm.binary)\n",
    "print(\"The first train label is \" + str(y_train[1]))"
   ]
  },
  {
   "cell_type": "code",
   "execution_count": 107,
   "metadata": {},
   "outputs": [
    {
     "name": "stdout",
     "output_type": "stream",
     "text": [
      "x_train_norm is :  (60000, 28, 28)\n",
      "y_train is :  (60000,)\n",
      "x_test_norm is :  (10000, 28, 28)\n",
      "y_test is :  (10000,)\n",
      "y_test[0] is :  7\n",
      "x_test_norm[0] is : \n",
      "[[0.         0.         0.         0.         0.         0.\n",
      "  0.         0.         0.         0.         0.         0.\n",
      "  0.         0.         0.         0.         0.         0.\n",
      "  0.         0.         0.         0.         0.         0.\n",
      "  0.         0.         0.         0.        ]\n",
      " [0.         0.         0.         0.         0.         0.\n",
      "  0.         0.         0.         0.         0.         0.\n",
      "  0.         0.         0.         0.         0.         0.\n",
      "  0.         0.         0.         0.         0.         0.\n",
      "  0.         0.         0.         0.        ]\n",
      " [0.         0.         0.         0.         0.         0.\n",
      "  0.         0.         0.         0.         0.         0.\n",
      "  0.         0.         0.         0.         0.         0.\n",
      "  0.         0.         0.         0.         0.         0.\n",
      "  0.         0.         0.         0.        ]\n",
      " [0.         0.         0.         0.         0.         0.\n",
      "  0.         0.         0.         0.         0.         0.\n",
      "  0.         0.         0.         0.         0.         0.\n",
      "  0.         0.         0.         0.         0.         0.\n",
      "  0.         0.         0.         0.        ]\n",
      " [0.         0.         0.         0.         0.         0.\n",
      "  0.         0.         0.         0.         0.         0.\n",
      "  0.         0.         0.         0.         0.         0.\n",
      "  0.         0.         0.         0.         0.         0.\n",
      "  0.         0.         0.         0.        ]\n",
      " [0.         0.         0.         0.         0.         0.\n",
      "  0.         0.         0.         0.         0.         0.\n",
      "  0.         0.         0.         0.         0.         0.\n",
      "  0.         0.         0.         0.         0.         0.\n",
      "  0.         0.         0.         0.        ]\n",
      " [0.         0.         0.         0.         0.         0.\n",
      "  0.         0.         0.         0.         0.         0.\n",
      "  0.         0.         0.         0.         0.         0.\n",
      "  0.         0.         0.         0.         0.         0.\n",
      "  0.         0.         0.         0.        ]\n",
      " [0.         0.         0.         0.         0.         0.\n",
      "  0.32941176 0.7254902  0.62352941 0.59215686 0.23529412 0.14117647\n",
      "  0.         0.         0.         0.         0.         0.\n",
      "  0.         0.         0.         0.         0.         0.\n",
      "  0.         0.         0.         0.        ]\n",
      " [0.         0.         0.         0.         0.         0.\n",
      "  0.87058824 0.99607843 0.99607843 0.99607843 0.99607843 0.94509804\n",
      "  0.77647059 0.77647059 0.77647059 0.77647059 0.77647059 0.77647059\n",
      "  0.77647059 0.77647059 0.66666667 0.20392157 0.         0.\n",
      "  0.         0.         0.         0.        ]\n",
      " [0.         0.         0.         0.         0.         0.\n",
      "  0.2627451  0.44705882 0.28235294 0.44705882 0.63921569 0.89019608\n",
      "  0.99607843 0.88235294 0.99607843 0.99607843 0.99607843 0.98039216\n",
      "  0.89803922 0.99607843 0.99607843 0.54901961 0.         0.\n",
      "  0.         0.         0.         0.        ]\n",
      " [0.         0.         0.         0.         0.         0.\n",
      "  0.         0.         0.         0.         0.         0.06666667\n",
      "  0.25882353 0.05490196 0.2627451  0.2627451  0.2627451  0.23137255\n",
      "  0.08235294 0.9254902  0.99607843 0.41568627 0.         0.\n",
      "  0.         0.         0.         0.        ]\n",
      " [0.         0.         0.         0.         0.         0.\n",
      "  0.         0.         0.         0.         0.         0.\n",
      "  0.         0.         0.         0.         0.         0.\n",
      "  0.3254902  0.99215686 0.81960784 0.07058824 0.         0.\n",
      "  0.         0.         0.         0.        ]\n",
      " [0.         0.         0.         0.         0.         0.\n",
      "  0.         0.         0.         0.         0.         0.\n",
      "  0.         0.         0.         0.         0.         0.08627451\n",
      "  0.91372549 1.         0.3254902  0.         0.         0.\n",
      "  0.         0.         0.         0.        ]\n",
      " [0.         0.         0.         0.         0.         0.\n",
      "  0.         0.         0.         0.         0.         0.\n",
      "  0.         0.         0.         0.         0.         0.50588235\n",
      "  0.99607843 0.93333333 0.17254902 0.         0.         0.\n",
      "  0.         0.         0.         0.        ]\n",
      " [0.         0.         0.         0.         0.         0.\n",
      "  0.         0.         0.         0.         0.         0.\n",
      "  0.         0.         0.         0.         0.23137255 0.97647059\n",
      "  0.99607843 0.24313725 0.         0.         0.         0.\n",
      "  0.         0.         0.         0.        ]\n",
      " [0.         0.         0.         0.         0.         0.\n",
      "  0.         0.         0.         0.         0.         0.\n",
      "  0.         0.         0.         0.         0.52156863 0.99607843\n",
      "  0.73333333 0.01960784 0.         0.         0.         0.\n",
      "  0.         0.         0.         0.        ]\n",
      " [0.         0.         0.         0.         0.         0.\n",
      "  0.         0.         0.         0.         0.         0.\n",
      "  0.         0.         0.         0.03529412 0.80392157 0.97254902\n",
      "  0.22745098 0.         0.         0.         0.         0.\n",
      "  0.         0.         0.         0.        ]\n",
      " [0.         0.         0.         0.         0.         0.\n",
      "  0.         0.         0.         0.         0.         0.\n",
      "  0.         0.         0.         0.49411765 0.99607843 0.71372549\n",
      "  0.         0.         0.         0.         0.         0.\n",
      "  0.         0.         0.         0.        ]\n",
      " [0.         0.         0.         0.         0.         0.\n",
      "  0.         0.         0.         0.         0.         0.\n",
      "  0.         0.         0.29411765 0.98431373 0.94117647 0.22352941\n",
      "  0.         0.         0.         0.         0.         0.\n",
      "  0.         0.         0.         0.        ]\n",
      " [0.         0.         0.         0.         0.         0.\n",
      "  0.         0.         0.         0.         0.         0.\n",
      "  0.         0.0745098  0.86666667 0.99607843 0.65098039 0.\n",
      "  0.         0.         0.         0.         0.         0.\n",
      "  0.         0.         0.         0.        ]\n",
      " [0.         0.         0.         0.         0.         0.\n",
      "  0.         0.         0.         0.         0.         0.\n",
      "  0.01176471 0.79607843 0.99607843 0.85882353 0.1372549  0.\n",
      "  0.         0.         0.         0.         0.         0.\n",
      "  0.         0.         0.         0.        ]\n",
      " [0.         0.         0.         0.         0.         0.\n",
      "  0.         0.         0.         0.         0.         0.\n",
      "  0.14901961 0.99607843 0.99607843 0.30196078 0.         0.\n",
      "  0.         0.         0.         0.         0.         0.\n",
      "  0.         0.         0.         0.        ]\n",
      " [0.         0.         0.         0.         0.         0.\n",
      "  0.         0.         0.         0.         0.         0.12156863\n",
      "  0.87843137 0.99607843 0.45098039 0.00392157 0.         0.\n",
      "  0.         0.         0.         0.         0.         0.\n",
      "  0.         0.         0.         0.        ]\n",
      " [0.         0.         0.         0.         0.         0.\n",
      "  0.         0.         0.         0.         0.         0.52156863\n",
      "  0.99607843 0.99607843 0.20392157 0.         0.         0.\n",
      "  0.         0.         0.         0.         0.         0.\n",
      "  0.         0.         0.         0.        ]\n",
      " [0.         0.         0.         0.         0.         0.\n",
      "  0.         0.         0.         0.         0.23921569 0.94901961\n",
      "  0.99607843 0.99607843 0.20392157 0.         0.         0.\n",
      "  0.         0.         0.         0.         0.         0.\n",
      "  0.         0.         0.         0.        ]\n",
      " [0.         0.         0.         0.         0.         0.\n",
      "  0.         0.         0.         0.         0.4745098  0.99607843\n",
      "  0.99607843 0.85882353 0.15686275 0.         0.         0.\n",
      "  0.         0.         0.         0.         0.         0.\n",
      "  0.         0.         0.         0.        ]\n",
      " [0.         0.         0.         0.         0.         0.\n",
      "  0.         0.         0.         0.         0.4745098  0.99607843\n",
      "  0.81176471 0.07058824 0.         0.         0.         0.\n",
      "  0.         0.         0.         0.         0.         0.\n",
      "  0.         0.         0.         0.        ]\n",
      " [0.         0.         0.         0.         0.         0.\n",
      "  0.         0.         0.         0.         0.         0.\n",
      "  0.         0.         0.         0.         0.         0.\n",
      "  0.         0.         0.         0.         0.         0.\n",
      "  0.         0.         0.         0.        ]]\n"
     ]
    },
    {
     "data": {
      "text/plain": [
       "<matplotlib.image.AxesImage at 0x7fed206e5af0>"
      ]
     },
     "execution_count": 107,
     "metadata": {},
     "output_type": "execute_result"
    },
    {
     "data": {
      "image/png": "[encoded data removed]",
      "text/plain": [
       "<Figure size 640x480 with 1 Axes>"
      ]
     },
     "metadata": {},
     "output_type": "display_data"
    }
   ],
   "source": [
    "# Normalize the image data\n",
    "x_train_norm = x_train / 255.0\n",
    "x_test_norm = x_test / 255.0\n",
    "\n",
    "# check max value of first image\n",
    "x_train_norm[0].max()\n",
    "\n",
    "# define inputs and outputs\n",
    "num_classes = 10\n",
    "input_shape = (28, 28, 1)\n",
    "\n",
    "# print x_train, y_train, x_test, y_test\n",
    "print(\"x_train_norm is : \", x_train_norm.shape)\n",
    "print(\"y_train is : \", y_train.shape)\n",
    "print(\"x_test_norm is : \", x_test_norm.shape)\n",
    "print(\"y_test is : \", y_test.shape)\n",
    "\n",
    "# print the first value of each\n",
    "print(\"y_test[0] is : \", y_test[0])\n",
    "print(\"x_test_norm[0] is : \")\n",
    "print(x_test_norm[0])\n",
    "plt.imshow(x_test_norm[0], cmap=plt.cm.binary)\n",
    "\n"
   ]
  },
  {
   "cell_type": "markdown",
   "metadata": {},
   "source": [
    "## Create the ANN Model with Keras"
   ]
  },
  {
   "cell_type": "code",
   "execution_count": 117,
   "metadata": {},
   "outputs": [
    {
     "name": "stdout",
     "output_type": "stream",
     "text": [
      "Model: \"sequential\"\n",
      "_________________________________________________________________\n",
      " Layer (type)                Output Shape              Param #   \n",
      "=================================================================\n",
      " flatten (Flatten)           (None, 784)               0         \n",
      "                                                                 \n",
      " dense (Dense)               (None, 256)               200960    \n",
      "                                                                 \n",
      " dropout (Dropout)           (None, 256)               0         \n",
      "                                                                 \n",
      " dense_1 (Dense)             (None, 128)               32896     \n",
      "                                                                 \n",
      " dense_2 (Dense)             (None, 10)                1290      \n",
      "                                                                 \n",
      "=================================================================\n",
      "Total params: 235146 (918.54 KB)\n",
      "Trainable params: 235146 (918.54 KB)\n",
      "Non-trainable params: 0 (0.00 Byte)\n",
      "_________________________________________________________________\n"
     ]
    }
   ],
   "source": [
    "# clean out previous models\n",
    "keras.backend.clear_session()\n",
    "\n",
    "# https://keras.io/guides/sequential_model/\n",
    "ann = keras.Sequential()\n",
    "\n",
    "# flatten the data into a 1D array of 28x28 = 784 pixels\n",
    "# since we're not using a convolutional neural network here\n",
    "# https://keras.io/api/layers/reshaping_layers/flatten/\n",
    "ann.add(layers.Flatten(input_shape=(28, 28)))\n",
    "\n",
    "# https://keras.io/api/layers/core_layers/dense/\n",
    "ann.add(layers.Dense(256, activation=\"relu\"))\n",
    "\n",
    "# https://keras.io/api/layers/regularization_layers/dropout/\n",
    "ann.add(layers.Dropout(0.2))\n",
    "\n",
    "# https://keras.io/api/layers/core_layers/dense/\n",
    "ann.add(layers.Dense(128, activation=\"relu\"))\n",
    "\n",
    "# https://keras.io/api/layers/core_layers/dense/\n",
    "ann.add(layers.Dense(10, activation=\"softmax\"))\n",
    "\n",
    "ann.summary()\n",
    "\n",
    "\n"
   ]
  },
  {
   "cell_type": "markdown",
   "metadata": {},
   "source": [
    "## Compile the Model"
   ]
  },
  {
   "cell_type": "code",
   "execution_count": 118,
   "metadata": {},
   "outputs": [],
   "source": [
    "ann.compile(\n",
    "    # use sparese categorical crossentropy for integer labels\n",
    "    # https://stats.stackexchange.com/questions/326065/cross-entropy-vs-sparse-cross-entropy-when-to-use-one-over-the-other \n",
    "    loss=\"sparse_categorical_crossentropy\",\n",
    "    # use adam optimizer\n",
    "    optimizer=\"adam\",\n",
    "    # define accuracy as the success metric\n",
    "    metrics=[\"accuracy\"]\n",
    ")"
   ]
  },
  {
   "cell_type": "markdown",
   "metadata": {},
   "source": [
    "## Fit the Model to the Training Data"
   ]
  },
  {
   "cell_type": "code",
   "execution_count": 119,
   "metadata": {},
   "outputs": [
    {
     "name": "stdout",
     "output_type": "stream",
     "text": [
      "Epoch 1/10\n",
      "469/469 [==============================] - 4s 7ms/step - loss: 0.3070 - accuracy: 0.9107 - val_loss: 0.1280 - val_accuracy: 0.9624\n",
      "Epoch 2/10\n",
      "469/469 [==============================] - 3s 6ms/step - loss: 0.1250 - accuracy: 0.9618 - val_loss: 0.0960 - val_accuracy: 0.9703\n",
      "Epoch 3/10\n",
      "469/469 [==============================] - 2s 5ms/step - loss: 0.0888 - accuracy: 0.9727 - val_loss: 0.0752 - val_accuracy: 0.9767\n",
      "Epoch 4/10\n",
      "469/469 [==============================] - 2s 5ms/step - loss: 0.0701 - accuracy: 0.9781 - val_loss: 0.0673 - val_accuracy: 0.9788\n",
      "Epoch 5/10\n",
      "469/469 [==============================] - 2s 5ms/step - loss: 0.0580 - accuracy: 0.9819 - val_loss: 0.0732 - val_accuracy: 0.9780\n",
      "Epoch 6/10\n",
      "469/469 [==============================] - 2s 5ms/step - loss: 0.0479 - accuracy: 0.9841 - val_loss: 0.0721 - val_accuracy: 0.9792\n",
      "Epoch 7/10\n",
      "469/469 [==============================] - 2s 5ms/step - loss: 0.0431 - accuracy: 0.9862 - val_loss: 0.0639 - val_accuracy: 0.9803\n",
      "Epoch 8/10\n",
      "469/469 [==============================] - 2s 5ms/step - loss: 0.0362 - accuracy: 0.9882 - val_loss: 0.0728 - val_accuracy: 0.9774\n",
      "Epoch 9/10\n",
      "469/469 [==============================] - 2s 5ms/step - loss: 0.0324 - accuracy: 0.9889 - val_loss: 0.0615 - val_accuracy: 0.9826\n",
      "Epoch 10/10\n",
      "469/469 [==============================] - 2s 5ms/step - loss: 0.0290 - accuracy: 0.9900 - val_loss: 0.0705 - val_accuracy: 0.9804\n"
     ]
    }
   ],
   "source": [
    "# train the model\n",
    "# https://keras.io/api/models/model_training_apis/\n",
    "history = ann.fit(\n",
    "    # training data\n",
    "    x_train_norm,\n",
    "    y_train,\n",
    "    # number of epochs\n",
    "    epochs=10,\n",
    "    # batch size\n",
    "    batch_size=128,\n",
    "    # validation data\n",
    "    validation_data = (x_test_norm, y_test),\n",
    "    # verbose\n",
    "    verbose=1\n",
    ")"
   ]
  },
  {
   "cell_type": "markdown",
   "metadata": {},
   "source": [
    "## Evaluate the Model with Predictions"
   ]
  },
  {
   "cell_type": "code",
   "execution_count": 120,
   "metadata": {},
   "outputs": [
    {
     "name": "stdout",
     "output_type": "stream",
     "text": [
      "313/313 [==============================] - 1s 2ms/step\n",
      "313/313 [==============================] - 1s 2ms/step - loss: 0.0705 - accuracy: 0.9804\n"
     ]
    }
   ],
   "source": [
    "# evaluate the model\n",
    "predictions = ann.predict(x_test_norm)\n",
    "score = ann.evaluate(x_test_norm, y_test, verbose=1)"
   ]
  },
  {
   "cell_type": "code",
   "execution_count": 121,
   "metadata": {},
   "outputs": [
    {
     "data": {
      "image/png": "[encoded data removed]",
      "text/plain": [
       "<Figure size 640x480 with 1 Axes>"
      ]
     },
     "metadata": {},
     "output_type": "display_data"
    }
   ],
   "source": [
    "# visualize the accuracy and loss over the epochs\n",
    "# https://keras.io/api/visualization/keras_viz_history/\n",
    "plt.plot(history.history[\"accuracy\"])\n",
    "plt.plot(history.history[\"val_accuracy\"])\n",
    "plt.title(\"ANN Model Accuracy\")\n",
    "plt.ylabel(\"Accuracy\")\n",
    "plt.xlabel(\"Epoch\")\n",
    "plt.legend([\"Train\", \"Test\"], loc=\"upper left\")\n",
    "plt.show()"
   ]
  },
  {
   "cell_type": "code",
   "execution_count": 122,
   "metadata": {},
   "outputs": [
    {
     "name": "stdout",
     "output_type": "stream",
     "text": [
      "[[ 968    1    4    1    0    1    1    2    2    0]\n",
      " [   0 1123    3    1    0    0    4    0    4    0]\n",
      " [   0    0 1023    3    1    0    0    3    2    0]\n",
      " [   0    0    3  993    0    5    0    4    3    2]\n",
      " [   0    0    4    1  972    0    2    1    0    2]\n",
      " [   1    0    0   12    2  871    2    1    1    2]\n",
      " [   1    2    1    1    3    4  944    0    2    0]\n",
      " [   0    4   14    4    3    0    0  998    2    3]\n",
      " [   0    0    7    5    4    3    3    3  947    2]\n",
      " [   1    2    1    6   21    2    0    8    3  965]]\n"
     ]
    },
    {
     "data": {
      "image/png": "[encoded data removed]",
      "text/plain": [
       "<Figure size 640x480 with 2 Axes>"
      ]
     },
     "metadata": {},
     "output_type": "display_data"
    }
   ],
   "source": [
    "# create a confusion matrix\n",
    "# https://scikit-learn.org/stable/modules/generated/sklearn.metrics.confusion_matrix.html\n",
    "cm = confusion_matrix(y_test, predictions.argmax(axis=1))\n",
    "print(cm)\n",
    "\n",
    "# plot a pretty confusion matrix\n",
    "# https://scikit-learn.org/stable/auto_examples/model_selection/plot_confusion_matrix.html\n",
    "plt.imshow(cm, cmap=plt.cm.Blues)\n",
    "plt.xlabel(\"Predicted labels\")\n",
    "plt.ylabel(\"True labels\")\n",
    "plt.xticks(np.arange(num_classes))\n",
    "plt.yticks(np.arange(num_classes))\n",
    "plt.title(\"Confusion matrix\")\n",
    "plt.colorbar()\n",
    "plt.show()\n"
   ]
  },
  {
   "cell_type": "markdown",
   "metadata": {},
   "source": [
    "## Results\n",
    "\n",
    "Our model does quite well, achieving an accuracy of 98.04% on the test data. I also tried a few other parameters that performed less well, such as:\n",
    "- Using 2 dense layers instead of 3 -- worse results\n",
    "- Using 128 and 64 units in the dense layers instead of 256 and 128 -- worse results\n",
    "- Using 2 dropout layers instead of 1 -- worse results\n",
    "- Using 0.2 dropout rate instead of 0.5 -- reduced test accuracy to 97.67%, reduced test accuracy to 97.98%\n",
    "- Using 0 dropout layers instead of 1 -- improved accuracy on train data to 99.54%, reduced accuracy on test data to 97.74%\n",
    "\n",
    "\n",
    "Overall, This is a strong result, especially considering that we used a simple ANN ann. With an ANN, we had to flatten the data, and thus we lose the intuition of a 2-dimensional image. In the next section, we'll use an CNN model, which will allow us to keep the 2-dimensional structure of the data and see if we can improve the accuracy of the ann. "
   ]
  },
  {
   "cell_type": "markdown",
   "metadata": {},
   "source": [
    "## Export to HTML"
   ]
  },
  {
   "cell_type": "code",
   "execution_count": 1,
   "metadata": {},
   "outputs": [
    {
     "name": "stderr",
     "output_type": "stream",
     "text": [
      "[NbConvertApp] Converting notebook pt1_ann.ipynb to html\n",
      "[NbConvertApp] Writing 700801 bytes to pt1_ann.html\n"
     ]
    },
    {
     "data": {
      "text/plain": [
       "0"
      ]
     },
     "execution_count": 1,
     "metadata": {},
     "output_type": "execute_result"
    }
   ],
   "source": [
    "# export to HTML for webpage\n",
    "import os\n",
    "\n",
    "# os.system('jupyter nbconvert --to html mod1.ipynb')\n",
    "os.system('jupyter nbconvert --to html pt1_ann.ipynb --HTMLExporter.theme=dark')"
   ]
  }
 ],
 "metadata": {
  "kernelspec": {
   "display_name": "base",
   "language": "python",
   "name": "python3"
  },
  "language_info": {
   "codemirror_mode": {
    "name": "ipython",
    "version": 3
   },
   "file_extension": ".py",
   "mimetype": "text/x-python",
   "name": "python",
   "nbconvert_exporter": "python",
   "pygments_lexer": "ipython3",
   "version": "3.9.13"
  },
  "orig_nbformat": 4
 },
 "nbformat": 4,
 "nbformat_minor": 2
}
