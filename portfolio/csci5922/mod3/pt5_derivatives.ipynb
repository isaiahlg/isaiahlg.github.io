{
 "cells": [
  {
   "cell_type": "markdown",
   "metadata": {},
   "source": [
    "# Backpropogation in an RNN"
   ]
  },
  {
   "cell_type": "markdown",
   "metadata": {},
   "source": [
    "To get a better understanding of how backpropogation works in an RNN, I will walk through the derivative of the loss function with respect to a paremeter. Below is an illustration of how a simple RNN works, unrolled over four time steps.\n",
    "\n",
    "![RNN](pt5_rnn.png)"
   ]
  },
  {
   "cell_type": "markdown",
   "metadata": {},
   "source": [
    "Let's start by writing out the equations for $z_t$, $h_t$, $o_t$, $\\hat{y}_t$, and $L_t$. Assume the loss function is cross entropy loss and the activation function is the hyperbolic tangent function.\n",
    "\n",
    "$$\n",
    "z_t = W_{xh}x_t + W_{hh}h_{t-1} + b_h\n",
    "$$\n",
    "\n",
    "$$\n",
    "h_t = \\tanh(z_t)\n",
    "$$\n",
    "\n",
    "$$\n",
    "o_t = W_{hy}h_t + b_y\n",
    "$$\n",
    "\n",
    "$$\n",
    "\\hat{y}_t = \\text{softmax}(o_t)\n",
    "$$\n",
    "\n",
    "$$\n",
    "L_t(y,\\hat{y}) = -y_t*log(\\hat{y}_t)\n",
    "$$"
   ]
  },
  {
   "cell_type": "markdown",
   "metadata": {},
   "source": [
    "That's a lot of terms. Let's simplify this by expressing $h_t$ in terms of $x_t$ and $h_{t-1}$.\n",
    "\n",
    "$$\n",
    "h_t = \\tanh(W_{xh}x_t + W_{hh}h_{t-1} + b_h)\n",
    "$$\n",
    "\n",
    "Let's also simplify by expressing $\\hat{y}_t$ in terms of $h_t$.\n",
    "\n",
    "$$\n",
    "\\hat{y}_t = \\text{softmax}(W_{hy}h_t + b_y)\n",
    "$$"
   ]
  },
  {
   "cell_type": "markdown",
   "metadata": {},
   "source": [
    "In order to get the loss over all time steps, we need to sum the loss over all time steps.\n",
    "\n",
    "$$\n",
    "L = \\sum_{t=1}^T L_t\n",
    "$$\n",
    "\n",
    "$$\n",
    "L = L_1 + L_2 + L_3 + L_4\n",
    "$$"
   ]
  },
  {
   "cell_type": "markdown",
   "metadata": {},
   "source": [
    "Okay, now we're ready to write out the derivative of the loss function with respect to $W_{xh}$. It will be a sum of the derivatives for each time step.\n",
    "\n",
    "$$\n",
    "\\frac{\\partial L}{\\partial W_{xh}} = \\frac{\\partial L_1}{\\partial W_{xh}} + \\frac{\\partial L_2}{\\partial W_{xh}} + \\frac{\\partial L_3}{\\partial W_{xh}} + \\frac{\\partial L_4}{\\partial W_{xh}}\n",
    "$$\n",
    "\n",
    "Let's start with $L_1$ and work our way to $L_4$. \n",
    "\n",
    "$$\n",
    "\\frac{\\partial L_1}{\\partial W_{xh}} = \\frac{\\partial L_1}{\\partial \\hat{y}_1} \\frac{\\partial \\hat{y}_1}{\\partial h_1} \\frac{\\partial h_1}{\\partial W_{xh}}\n",
    "$$\n",
    "\n",
    "Now let's write out the derivative of $L_2$ with respect to $W_{xh}$. This will depend on $h_2$ and $h_1$.\n",
    "\n",
    "$$\n",
    "\\frac{\\partial L_2}{\\partial W_{xh}} = \\frac{\\partial L_2}{\\partial \\hat{y}_2} \\frac{\\partial \\hat{y}_2}{\\partial h_2} \\frac{\\partial h_2}{\\partial W_{xh}} + \\frac{\\partial L_2}{\\partial \\hat{y}_2} \\frac{\\partial \\hat{y}_2}{\\partial h_2} \\frac{\\partial h_2}{\\partial h_1} \\frac{\\partial h_1}{\\partial W_{xh}}\n",
    "$$\n",
    "\n",
    "Let's keep this going for $L_3$, which will have terms for $h_3$, $h_2$, and $h_1$.\n",
    "\n",
    "$$\n",
    "\\frac{\\partial L_3}{\\partial W_{xh}} = \\frac{\\partial L_3}{\\partial \\hat{y}_3} \\frac{\\partial \\hat{y}_3}{\\partial h_3} \\frac{\\partial h_3}{\\partial W_{xh}} + \\frac{\\partial L_3}{\\partial \\hat{y}_3} \\frac{\\partial \\hat{y}_3}{\\partial h_3} \\frac{\\partial h_3}{\\partial h_2} \\frac{\\partial h_2}{\\partial W_{xh}} + \\frac{\\partial L_3}{\\partial \\hat{y}_3} \\frac{\\partial \\hat{y}_3}{\\partial h_3} \\frac{\\partial h_3}{\\partial h_2} \\frac{\\partial h_2}{\\partial h_1} \\frac{\\partial h_1}{\\partial W_{xh}}\n",
    "$$\n",
    "\n",
    "Finally, let's write out the derivative of $L_4$ with respect to $W_{xh}$. This will have terms for $h_4$, $h_3$, $h_2$, and $h_1$.\n",
    "\n",
    "$$\n",
    "\\frac{\\partial L_4}{\\partial W_{xh}} = \\frac{\\partial L_4}{\\partial \\hat{y}_4} \\frac{\\partial \\hat{y}_4}{\\partial h_4} \\frac{\\partial h_4}{\\partial W_{xh}} + \\frac{\\partial L_4}{\\partial \\hat{y}_4} \\frac{\\partial \\hat{y}_4}{\\partial h_4} \\frac{\\partial h_4}{\\partial h_3} \\frac{\\partial h_3}{\\partial W_{xh}} + \\frac{\\partial L_4}{\\partial \\hat{y}_4} \\frac{\\partial \\hat{y}_4}{\\partial h_4} \\frac{\\partial h_4}{\\partial h_3} \\frac{\\partial h_3}{\\partial h_2} \\frac{\\partial h_2}{\\partial W_{xh}} + \\frac{\\partial L_4}{\\partial \\hat{y}_4} \\frac{\\partial \\hat{y}_4}{\\partial h_4} \\frac{\\partial h_4}{\\partial h_3} \\frac{\\partial h_3}{\\partial h_2} \\frac{\\partial h_2}{\\partial h_1} \\frac{\\partial h_1}{\\partial W_{xh}}\n",
    "$$\n",
    "\n",
    "Simplifying this into a summation, we get the following.\n",
    "\n",
    "$$\n",
    "\\frac{\\partial L}{\\partial W_{xh}} = \\sum_{t=1}^4 \\sum_{k=1}^4\\frac{\\partial L_t}{\\partial \\hat{y}_t} \\frac{\\partial \\hat{y}_t}{\\partial h_t} \\frac{\\partial h_t}{\\partial h_k} \\frac{\\partial h_k}{\\partial W_{xh}}\n",
    "$$\n",
    "\n",
    "Expressed generically for a series of $T$ time steps, we get the following.\n",
    "\n",
    "$$\n",
    "\\frac{\\partial L}{\\partial W_{xh}} = \\sum_{t=1}^T \\sum_{k=1}^T\\frac{\\partial L_t}{\\partial \\hat{y}_t} \\frac{\\partial \\hat{y}_t}{\\partial h_t} \\frac{\\partial h_t}{\\partial h_k} \\frac{\\partial h_k}{\\partial W_{xh}}\n",
    "$$\n",
    "\n",
    "\n"
   ]
  },
  {
   "cell_type": "markdown",
   "metadata": {},
   "source": [
    "## Export to HTML"
   ]
  },
  {
   "cell_type": "code",
   "execution_count": 1,
   "metadata": {},
   "outputs": [
    {
     "name": "stderr",
     "output_type": "stream",
     "text": [
      "[NbConvertApp] Converting notebook pt5_derivatives.ipynb to html\n",
      "[NbConvertApp] Writing 273444 bytes to pt5_derivatives.html\n"
     ]
    },
    {
     "data": {
      "text/plain": [
       "0"
      ]
     },
     "execution_count": 1,
     "metadata": {},
     "output_type": "execute_result"
    }
   ],
   "source": [
    "# export to HTML for webpage\n",
    "import os\n",
    "os.system('jupyter nbconvert --to html pt5_derivatives.ipynb --HTMLExporter.theme=dark')"
   ]
  }
 ],
 "metadata": {
  "kernelspec": {
   "display_name": "csci5922",
   "language": "python",
   "name": "python3"
  },
  "language_info": {
   "codemirror_mode": {
    "name": "ipython",
    "version": 3
   },
   "file_extension": ".py",
   "mimetype": "text/x-python",
   "name": "python",
   "nbconvert_exporter": "python",
   "pygments_lexer": "ipython3",
   "version": "3.9.15"
  },
  "orig_nbformat": 4
 },
 "nbformat": 4,
 "nbformat_minor": 2
}
